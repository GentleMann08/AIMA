{
 "cells": [
  {
   "cell_type": "code",
   "execution_count": 2,
   "metadata": {},
   "outputs": [],
   "source": [
    "import pandas as pd"
   ]
  },
  {
   "cell_type": "code",
   "execution_count": null,
   "metadata": {},
   "outputs": [],
   "source": [
    "news_df = pd.read_csv('data/news.csv')  \n",
    "price_df = pd.read_csv('moex/data/GAZP.csv') \n",
    "\n",
    "news_df['published_at'] = pd.to_datetime(news_df['datetime'])\n",
    "price_df['datetime'] = pd.to_datetime(price_df['datetime'])"
   ]
  },
  {
   "cell_type": "code",
   "execution_count": 4,
   "metadata": {},
   "outputs": [],
   "source": [
    "price_df = price_df.sort_values(by='datetime')"
   ]
  },
  {
   "cell_type": "code",
   "execution_count": 10,
   "metadata": {},
   "outputs": [],
   "source": [
    "final_df = pd.DataFrame()"
   ]
  },
  {
   "cell_type": "code",
   "execution_count": null,
   "metadata": {},
   "outputs": [],
   "source": [
    "shares = [\"GAZP\", \"ROSN\", \"TCSG\", \"VEON-RX\", \"YNDX\"]\n",
    "for share in shares:\n",
    "    filtered_news = news_df[news_df['Prediction'].str.contains(r'\\b{}\\b'.format(share), na=False, case=False)]\n",
    "    price_df = pd.read_csv('moex/data/{}.csv'.format(share)) "
   ]
  }
 ],
 "metadata": {
  "kernelspec": {
   "display_name": "Python 3",
   "language": "python",
   "name": "python3"
  },
  "language_info": {
   "codemirror_mode": {
    "name": "ipython",
    "version": 3
   },
   "file_extension": ".py",
   "mimetype": "text/x-python",
   "name": "python",
   "nbconvert_exporter": "python",
   "pygments_lexer": "ipython3",
   "version": "3.13.0"
  }
 },
 "nbformat": 4,
 "nbformat_minor": 2
}
